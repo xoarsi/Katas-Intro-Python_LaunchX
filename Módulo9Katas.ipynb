{
  "cells": [
    {
      "cell_type": "markdown",
      "metadata": {},
      "source": [
        "# Ejercicio: Uso de funciones en Python"
      ]
    },
    {
      "cell_type": "markdown",
      "metadata": {},
      "source": [
        "### Ejercicio 1: Trabajar con argumentos en funciones\n",
        "\n",
        "Los argumentos requeridos en las funciones se utilizan cuando las funciones necesitan que esos argumentos funcionen correctamente. En este ejercicio, construirás un informe de combustible que requiere información de varias ubicaciones de combustible en todo el cohete.\n",
        "\n"
      ]
    },
    {
      "cell_type": "markdown",
      "metadata": {},
      "source": [
        "> **TIP**\n",
        "> Dedica unos minutos para tratar de encontrar una solución. Luego desplázate hacia abajo hasta la parte inferior para ver si has logrado compilar el programa de acuerdo con las especificaciones\n",
        "\n",
        "Comienza por crear una función que necesite tres lecturas de combustible y devuelva un informe:"
      ]
    },
    {
      "cell_type": "code",
      "execution_count": 127,
      "metadata": {},
      "outputs": [],
      "source": [
        "# Función para leer 3 tanques de combustible y muestre el promedio\n",
        "def lecturas_comb(t1, t2, t3):\n",
        "    total_comb= (t1+t2+t3)\n",
        "    prom_comb= (t1+t2+t3)/3\n",
        "    return f\"\"\"Informe: \n",
        "Tanque 1: {t1}% \\nTanque 2: {t2}% \\nTanque 3: {t3}% \n",
        "Combustible total: {total_comb}%\n",
        "Combustible promedio: {prom_comb}%\"\"\""
      ]
    },
    {
      "cell_type": "code",
      "execution_count": 128,
      "metadata": {},
      "outputs": [
        {
          "name": "stdout",
          "output_type": "stream",
          "text": [
            "Informe: \n",
            "Tanque 1: 85% \n",
            "Tanque 2: 45% \n",
            "Tanque 3: 32% \n",
            "Combustible total: 162%\n",
            "Combustible promedio: 54.0%\n"
          ]
        }
      ],
      "source": [
        "print(lecturas_comb(85,45,32))"
      ]
    },
    {
      "cell_type": "markdown",
      "metadata": {},
      "source": [
        "Ahora que hemos definido la función de informes, vamos a comprobarlo. Para esta misión, los tanques no están llenos:"
      ]
    },
    {
      "cell_type": "code",
      "execution_count": 129,
      "metadata": {},
      "outputs": [
        {
          "name": "stdout",
          "output_type": "stream",
          "text": [
            "Informe: \n",
            "Tanque 1: 0% \n",
            "Tanque 2: 0% \n",
            "Tanque 3: 0% \n",
            "Combustible total: 0%\n",
            "Combustible promedio: 0.0%\n"
          ]
        }
      ],
      "source": [
        "\n",
        "# Llamamos a la función que genera el reporte print(funcion(tanque1, tanque2, tanque3))\n",
        "print(lecturas_comb(0, 0, 0))"
      ]
    },
    {
      "cell_type": "markdown",
      "metadata": {},
      "source": [
        "En lugar de simplemente crear el informe, la función también está calculando el promedio. Mejora la legibilidad extrayendo el cálculo promedio de la función en una nueva función para que el promedio se pueda hacer de forma independiente:"
      ]
    },
    {
      "cell_type": "code",
      "execution_count": 136,
      "metadata": {},
      "outputs": [],
      "source": [
        "# Función promedio \n",
        "def promedio(t1, t2, t3):\n",
        "    total = (t1+t2+t3)\n",
        "    núm_tanques = 3\n",
        "    return total/núm_tanques"
      ]
    },
    {
      "cell_type": "code",
      "execution_count": 137,
      "metadata": {},
      "outputs": [
        {
          "name": "stdout",
          "output_type": "stream",
          "text": [
            "47.333333333333336\n"
          ]
        }
      ],
      "source": [
        "print(promedio(25, 50, 67))"
      ]
    },
    {
      "cell_type": "markdown",
      "metadata": {},
      "source": [
        "Ahora actualiza la función de informes para llamando a la nueva función del promedio:\n"
      ]
    },
    {
      "cell_type": "code",
      "execution_count": 73,
      "metadata": {},
      "outputs": [
        {
          "name": "stdout",
          "output_type": "stream",
          "text": [
            "Informe: \n",
            "-------------\n",
            "Tanque 1: 54% \n",
            "Tanque 2: 28% \n",
            "Tanque 3: 34%  \n",
            "-------------\n",
            "Combustible total: 116%\n",
            "Combustible promedio: 38.666666666666664%\n"
          ]
        }
      ],
      "source": [
        "# Actualiza la función\n",
        "def lecturas_comb(t1, t2, t3):\n",
        "    total_comb= (t1+t2+t3)\n",
        "    return f\"\"\"Informe: \\n-------------\n",
        "Tanque 1: {t1}% \\nTanque 2: {t2}% \\nTanque 3: {t3}%  \\n-------------\n",
        "Combustible total: {total_comb}%\n",
        "Combustible promedio: {promedio(t1, t2, t3)}%\"\"\"\n",
        "\n",
        "print(lecturas_comb(54, 28, 34))"
      ]
    },
    {
      "cell_type": "markdown",
      "metadata": {},
      "source": [
        "> Recuerda: Lo importante es intentarlo, puedes auxiliarte de internet, libros, etc. El objetivo de una kata es la comprobación de la comprensión de la lección y su aplicación inmediata a la resolución de problemas. Go for it!"
      ]
    },
    {
      "cell_type": "markdown",
      "metadata": {},
      "source": [
        "## Ejercicio 2: Trabajo con argumentos de palabra clave"
      ]
    },
    {
      "cell_type": "markdown",
      "metadata": {},
      "source": [
        "### Ejercicio : Trabajar con argumentos de palabras clave en funciones\n",
        "En este ejercicio, construirás un informe de cohete que requiere varias piezas de información, como el tiempo hasta el destino, el combustible a la izquierda y el nombre del destino. Comienza por crear una función que creará un informe preciso de la misión:"
      ]
    },
    {
      "cell_type": "code",
      "execution_count": 83,
      "metadata": {},
      "outputs": [],
      "source": [
        "# Función con un informe preciso de la misión. \n",
        "# Considera hora de prelanzamiento, tiempo de vuelo, destino, tanque externo y tanque interno\n",
        "\n",
        "def informe_cohete(hora_prelanzamiento, tiempo_vuelo, destino, tanque_ext, tanque_int):\n",
        "    combustible_total= tanque_ext+tanque_int\n",
        "    return f\"\"\"Informe del lanzamiento\n",
        "------------------\n",
        "Destino: {destino} \n",
        "Hora de prelanzamiento: {hora_prelanzamiento} am\n",
        "Tiempo de vuelo: {tiempo_vuelo} horas\n",
        "Combustible total: {combustible_total} litros\n",
        "\n",
        "\"\"\"\n"
      ]
    },
    {
      "cell_type": "code",
      "execution_count": 84,
      "metadata": {},
      "outputs": [
        {
          "name": "stdout",
          "output_type": "stream",
          "text": [
            "Informe del lanzamiento\n",
            "------------------\n",
            "Destino: Júpiter \n",
            "Hora de prelanzamiento: 6 am\n",
            "Tiempo de vuelo: 80 horas\n",
            "Combustible total: 158 litros\n",
            "\n",
            "\n"
          ]
        }
      ],
      "source": [
        "print(informe_cohete(6, 80, 'Júpiter', 58, 100))"
      ]
    },
    {
      "cell_type": "markdown",
      "metadata": {},
      "source": [
        "La función es problemática porque no se puede adaptar para minutos adicionales o tanques adicionales de combustible. Hazlo más flexible permitiendo cualquier número de pasos basados en el tiempo y cualquier número de tanques. En lugar de usar `*args` y `**kwargs`, aprovecha el hecho de que puedes usar cualquier nombre que desees. Asegurate que la función sea más legible mediante el uso de nombres de variables que están asociados con las entradas, como `*minutes` y `**fuel_reservoirs`:"
      ]
    },
    {
      "cell_type": "code",
      "execution_count": 113,
      "metadata": {},
      "outputs": [],
      "source": [
        "# Escribe tu nueva función de reporte considerando lo anterior\n",
        "def informe_cohete(destino, hora_prelanzamiento, *tiempo_vuelo, **combustible_total):\n",
        "    return f\"\"\"Informe del lanzamiento\n",
        "------------------\n",
        "Destino: {destino} \n",
        "Hora de prelanzamiento: {hora_prelanzamiento} am\n",
        "Tiempo de vuelo: {sum(tiempo_vuelo)} horas\n",
        "Combustible total: {sum(combustible_total.values())} litros\n",
        "\n",
        "\"\"\"\n"
      ]
    },
    {
      "cell_type": "code",
      "execution_count": 115,
      "metadata": {},
      "outputs": [
        {
          "name": "stdout",
          "output_type": "stream",
          "text": [
            "Informe del lanzamiento\n",
            "------------------\n",
            "Destino: Venus \n",
            "Hora de prelanzamiento: 6 am\n",
            "Tiempo de vuelo: 222 horas\n",
            "Combustible total: 116 litros\n",
            "\n",
            "\n"
          ]
        }
      ],
      "source": [
        "print(informe_cohete('Venus', 6, 23, 40, 69, 78, 12, tanque_ext=68, tanque_int=48))"
      ]
    },
    {
      "cell_type": "markdown",
      "metadata": {},
      "source": [
        "Debido a que el combustible que queda en los tanques es específico de cada tanque, actualiza la función para usar el nombre de cada tanque en el informe:"
      ]
    },
    {
      "cell_type": "code",
      "execution_count": 124,
      "metadata": {},
      "outputs": [],
      "source": [
        "# Escribe tu nueva función\n",
        "\n",
        "def informe_cohete(destino, hora_prelanzamiento, *tiempo_vuelo, tanque_ext, tanque_int):\n",
        "    combustible_total= tanque_ext+tanque_int\n",
        "    return f\"\"\"Informe del lanzamiento\n",
        "------------------\n",
        "Destino: {destino} \n",
        "Hora de prelanzamiento: {hora_prelanzamiento} am\n",
        "Tiempo de vuelo: {sum(tiempo_vuelo)} horas\n",
        "Combustible total: {tanque_ext+tanque_int} litros\n",
        "Combustible del tanque externo: {tanque_ext} litros\n",
        "Combustible del tanque interno: {tanque_int} litros\n",
        "\n",
        "\"\"\"\n"
      ]
    },
    {
      "cell_type": "code",
      "execution_count": 126,
      "metadata": {},
      "outputs": [
        {
          "name": "stdout",
          "output_type": "stream",
          "text": [
            "Informe del lanzamiento\n",
            "------------------\n",
            "Destino: Urano \n",
            "Hora de prelanzamiento: 9 am\n",
            "Tiempo de vuelo: 112 horas\n",
            "Combustible total: 116 litros\n",
            "Combustible del tanque externo: 68 litros\n",
            "Combustible del tanque interno: 48 litros\n",
            "\n",
            "\n"
          ]
        }
      ],
      "source": [
        "print(informe_cohete('Urano', 9, 38, 40, 24, 10, tanque_ext=68, tanque_int=48))"
      ]
    },
    {
      "cell_type": "markdown",
      "metadata": {},
      "source": [
        "---\n",
        "\n",
        "Curso Propedútico de Python para Launch X - Innovacción Virtual.\n",
        "\n",
        "Material desarrollado con base en los contenidos de MSLearn y la metáfora de LaunchX, traducción e implementación por: Fernanda Ochoa - Learning Producer de LaunchX.\n",
        "\n",
        "Redes:\n",
        "* GitHub: [FernandaOchoa](https://github.com/FernandaOchoa)\n",
        "* Twitter: [@imonsh](https://twitter.com/imonsh)\n",
        "* Instagram: [fherz8a](https://www.instagram.com/fherz8a/)"
      ]
    }
  ],
  "metadata": {
    "interpreter": {
      "hash": "205095b8b86ea82a021a8fc2ffba2b3bc9f8d0be25999901963b225939f75778"
    },
    "kernelspec": {
      "display_name": "Python 3.8.10 64-bit ('tmp': conda)",
      "name": "python3"
    },
    "language_info": {
      "codemirror_mode": {
        "name": "ipython",
        "version": 3
      },
      "file_extension": ".py",
      "mimetype": "text/x-python",
      "name": "python",
      "nbconvert_exporter": "python",
      "pygments_lexer": "ipython3",
      "version": "3.10.2"
    },
    "nteract": {
      "version": "nteract-front-end@1.0.0"
    },
    "orig_nbformat": 4
  },
  "nbformat": 4,
  "nbformat_minor": 2
}
